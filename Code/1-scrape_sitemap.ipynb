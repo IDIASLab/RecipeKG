{
 "cells": [
  {
   "cell_type": "code",
   "execution_count": null,
   "id": "8a3cf0b6",
   "metadata": {},
   "outputs": [],
   "source": [
    "import requests\n",
    "from bs4 import BeautifulSoup\n",
    "import json"
   ]
  },
  {
   "cell_type": "code",
   "execution_count": null,
   "id": "fca06390",
   "metadata": {},
   "outputs": [],
   "source": [
    "#Enter the sitemap\n",
    "URL = \"https://www.allrecipes.com/sitemaps/recipe/1/sitemap.xml\"\n",
    "page = requests.get(URL)\n",
    "soup = BeautifulSoup(page.content, \"html.parser\")"
   ]
  },
  {
   "cell_type": "code",
   "execution_count": null,
   "id": "c0fe2af7",
   "metadata": {},
   "outputs": [],
   "source": [
    "#urls are in the loc element \n",
    "urls=soup.find_all(\"loc\")"
   ]
  },
  {
   "cell_type": "code",
   "execution_count": null,
   "id": "c62a0b92",
   "metadata": {},
   "outputs": [],
   "source": [
    "#put urls into list\n",
    "url_list=[]\n",
    "for url in urls:\n",
    "    url_list.append(url.text)"
   ]
  },
  {
   "cell_type": "code",
   "execution_count": null,
   "id": "cec86b9d",
   "metadata": {},
   "outputs": [],
   "source": [
    "#Scraping recipe pages by getting URL of the recipes from the list\n",
    "for k in range(0,len(url_list)):\n",
    "    URL = url_list[k]\n",
    "    page = requests.get(URL)\n",
    "    soup = BeautifulSoup(page.content, \"html.parser\")\n",
    "    \n",
    "    #recipe informations are embedded in ld+json element\n",
    "    result=soup.find(\"script\", type=\"application/ld+json\")  \n",
    "    \n",
    "    #checking if ld+json element exist\n",
    "    if result!=None:\n",
    "        a=json.loads(result.text)\n",
    "        \n",
    "        #writing every recipe into local file\n",
    "        fname=\"recipes-json/\"+str(k)+\".json\"\n",
    "        f = open(fname, \"a\")\n",
    "        json.dump(a, f, indent=4)\n",
    "        f.close()\n",
    "    \n",
    "    print(k)"
   ]
  }
 ],
 "metadata": {
  "kernelspec": {
   "display_name": "Python 3 (ipykernel)",
   "language": "python",
   "name": "python3"
  },
  "language_info": {
   "codemirror_mode": {
    "name": "ipython",
    "version": 3
   },
   "file_extension": ".py",
   "mimetype": "text/x-python",
   "name": "python",
   "nbconvert_exporter": "python",
   "pygments_lexer": "ipython3",
   "version": "3.8.9"
  }
 },
 "nbformat": 4,
 "nbformat_minor": 5
}
