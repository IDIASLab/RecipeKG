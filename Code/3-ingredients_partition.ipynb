{
 "cells": [
  {
   "cell_type": "code",
   "execution_count": null,
   "id": "ad95d516",
   "metadata": {},
   "outputs": [],
   "source": [
    "from recipe_parser import scrape, IngredientParser"
   ]
  },
  {
   "cell_type": "code",
   "execution_count": null,
   "id": "71e00a70",
   "metadata": {},
   "outputs": [],
   "source": [
    "#Some of the problems in the model observed manually and preprocesses were added\n",
    "def preprocess(ingredient):\n",
    "    \n",
    "    ingredient=ingredient.replace(\"½\", \"1/2\")\n",
    "    ingredient=ingredient.replace(\"⅓\", \"1/3\")\n",
    "    ingredient=ingredient.replace(\"⅔\", \"2/3\")\n",
    "    ingredient=ingredient.replace(\"¼\", \"1/4\")\n",
    "    ingredient=ingredient.replace(\"¾\", \"3/4\")\n",
    "    ingredient=ingredient.replace(\"pounds\", \"pound\")\n",
    "    ingredient=ingredient.replace(\"cans\", \"can\")\n",
    "    ingredient=ingredient.replace(\"tablespoons\", \"tablespoon\")\n",
    "    ingredient=ingredient.replace(\"teaspoons\", \"teaspoon\")\n",
    "    ingredient=ingredient.replace(\"cups\", \"cup\")\n",
    "\n",
    "    return ingredient"
   ]
  },
  {
   "cell_type": "code",
   "execution_count": null,
   "id": "1f252761",
   "metadata": {},
   "outputs": [],
   "source": [
    "#function take the ingredient and return parsed PRODUCT,QUANTITY,UNIT\n",
    "def ingredient_partition(ingredient):\n",
    "    ip = IngredientParser() \n",
    "    ingredient2=preprocess(ingredient)\n",
    "    ingredient2=ingredient2.replace('\\u2009', ' ')\n",
    "    parsed=ip.parse(ingredient2)\n",
    "    return parsed.ents"
   ]
  }
 ],
 "metadata": {
  "kernelspec": {
   "display_name": "Python 3 (ipykernel)",
   "language": "python",
   "name": "python3"
  },
  "language_info": {
   "codemirror_mode": {
    "name": "ipython",
    "version": 3
   },
   "file_extension": ".py",
   "mimetype": "text/x-python",
   "name": "python",
   "nbconvert_exporter": "python",
   "pygments_lexer": "ipython3",
   "version": "3.8.9"
  }
 },
 "nbformat": 4,
 "nbformat_minor": 5
}
