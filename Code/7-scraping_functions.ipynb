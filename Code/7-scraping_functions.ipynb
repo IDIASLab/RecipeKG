{
 "cells": [
  {
   "cell_type": "code",
   "execution_count": null,
   "id": "a5ea1b0e",
   "metadata": {},
   "outputs": [],
   "source": [
    "#These are small helper functions, especially can help in the test\n",
    "import requests\n",
    "from bs4 import BeautifulSoup\n",
    "import json"
   ]
  },
  {
   "cell_type": "code",
   "execution_count": null,
   "id": "f3b97e2b",
   "metadata": {},
   "outputs": [],
   "source": [
    "#give sitemap URL, return all the recipe-url as list\n",
    "def get_sitemap_url_list(sitemap_url):\n",
    "    page = requests.get(sitemap_url)\n",
    "    soup = BeautifulSoup(page.content, \"html.parser\")\n",
    "    urls=soup.find_all(\"loc\")\n",
    "    #put urls into list\n",
    "    url_list=[]\n",
    "    for url in urls:\n",
    "        url_list.append(url.text)\n",
    "    return(url_list)"
   ]
  },
  {
   "cell_type": "code",
   "execution_count": null,
   "id": "cdce1f83",
   "metadata": {},
   "outputs": [],
   "source": [
    "#give recipe url and take the ld+json as dictionary\n",
    "def get_recipe_jsonld(URL):\n",
    "    page = requests.get(URL)\n",
    "    soup = BeautifulSoup(page.content, \"html.parser\")\n",
    "    result=soup.find(\"script\", type=\"application/ld+json\")  \n",
    "    a=json.loads(result.text)\n",
    "    dict=a[1]\n",
    "    return(dict)"
   ]
  },
  {
   "cell_type": "code",
   "execution_count": null,
   "id": "e95d254a",
   "metadata": {},
   "outputs": [],
   "source": [
    "#open a local json recipe file and output as dictionary\n",
    "def open_recipe_jsonfile(recipe_path):\n",
    "    # Opening JSON file\n",
    "    f = open(recipe_path,)\n",
    "\n",
    "    # returns JSON object as \n",
    "    # a dictionary\n",
    "    dict = json.load(f)\n",
    "    f.close()\n",
    "    return (dict)"
   ]
  }
 ],
 "metadata": {
  "kernelspec": {
   "display_name": "Python 3 (ipykernel)",
   "language": "python",
   "name": "python3"
  },
  "language_info": {
   "codemirror_mode": {
    "name": "ipython",
    "version": 3
   },
   "file_extension": ".py",
   "mimetype": "text/x-python",
   "name": "python",
   "nbconvert_exporter": "python",
   "pygments_lexer": "ipython3",
   "version": "3.8.9"
  }
 },
 "nbformat": 4,
 "nbformat_minor": 5
}
