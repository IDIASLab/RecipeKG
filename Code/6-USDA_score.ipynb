{
 "cells": [
  {
   "cell_type": "code",
   "execution_count": 1,
   "id": "e76bb963",
   "metadata": {},
   "outputs": [],
   "source": [
    "def calculate_USDA_score(dict):\n",
    "    health_score=0\n",
    "    \n",
    "    if dict[\"nutrition\"]:\n",
    "        \n",
    "        if dict[\"nutrition\"][\"carbohydrateContent\"]:\n",
    "            list=dict[\"nutrition\"][\"carbohydrateContent\"].split() \n",
    "            if(float(list[0])<45):\n",
    "                health_score=health_score+1\n",
    "                \n",
    "        if dict[\"nutrition\"][\"proteinContent\"]:\n",
    "            list=dict[\"nutrition\"][\"proteinContent\"].split() \n",
    "            if(float(list[0])>10):\n",
    "                health_score=health_score+1\n",
    "                \n",
    "        if dict[\"nutrition\"][\"fatContent\"]:\n",
    "            list=dict[\"nutrition\"][\"fatContent\"].split()\n",
    "            if(float(list[0])<8.888):\n",
    "                health_score=health_score+1\n",
    "                \n",
    "        if dict[\"nutrition\"][\"saturatedFatContent\"]:\n",
    "            list=dict[\"nutrition\"][\"saturatedFatContent\"].split()\n",
    "            if(float(list[0])<4.444):\n",
    "                health_score=health_score+1\n",
    "                \n",
    "        if dict[\"nutrition\"][\"sugarContent\"]:\n",
    "            list=dict[\"nutrition\"][\"sugarContent\"].split() \n",
    "            if(float(list[0])<10):\n",
    "                health_score=health_score+1\n",
    "        \n",
    "        if dict[\"nutrition\"][\"fiberContent\"]:\n",
    "            list=dict[\"nutrition\"][\"fiberContent\"].split() \n",
    "            if((float(list[0])/1000)>5.6):\n",
    "                health_score=health_score+1\n",
    "        \n",
    "        if dict[\"nutrition\"][\"sodiumContent\"]:\n",
    "            list=dict[\"nutrition\"][\"sodiumContent\"].split() \n",
    "            if((float(list[0])/1000)<4.6):\n",
    "                health_score=health_score+1\n",
    "                \n",
    "        return(health_score)"
   ]
  }
 ],
 "metadata": {
  "kernelspec": {
   "display_name": "Python 3 (ipykernel)",
   "language": "python",
   "name": "python3"
  },
  "language_info": {
   "codemirror_mode": {
    "name": "ipython",
    "version": 3
   },
   "file_extension": ".py",
   "mimetype": "text/x-python",
   "name": "python",
   "nbconvert_exporter": "python",
   "pygments_lexer": "ipython3",
   "version": "3.8.9"
  }
 },
 "nbformat": 4,
 "nbformat_minor": 5
}
