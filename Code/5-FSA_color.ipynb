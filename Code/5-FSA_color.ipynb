{
 "cells": [
  {
   "cell_type": "code",
   "execution_count": null,
   "id": "ddbffd97",
   "metadata": {},
   "outputs": [],
   "source": [
    "def FSA_fat(a):\n",
    "    x=float(a)\n",
    "    if(x<=3):\n",
    "        return(\"Green\")\n",
    "    elif(x>3 and x<=17.5):\n",
    "        return(\"Amber\")\n",
    "    elif(x>17.5):\n",
    "        return(\"Red\")\n",
    "    \n",
    "def FSA_saturated_fat(a):\n",
    "    x=float(a)\n",
    "    if(x<=1.5):\n",
    "        return(\"Green\")\n",
    "    elif(x>1.5 and x<=5):\n",
    "        return(\"Amber\")\n",
    "    elif(x>5):\n",
    "        return(\"Red\")\n",
    "    \n",
    "def FSA_sugar(a):\n",
    "    x=float(a)\n",
    "    if(x<=5):\n",
    "        return(\"Green\")\n",
    "    elif(x>5 and x<=22.5):\n",
    "        return(\"Amber\")\n",
    "    elif(x>22.5):\n",
    "        return(\"Red\")\n",
    "    \n",
    "def FSA_sodium(a):\n",
    "    if float(a)==0:\n",
    "        x=float(a)\n",
    "    else:\n",
    "        x=float(a)/1000\n",
    "        \n",
    "    if(x<=0.3):\n",
    "        return(\"Green\")\n",
    "    elif(x>0.3 and x<=1.5):\n",
    "        return(\"Amber\")\n",
    "    elif(x>1.5):\n",
    "        return(\"Red\")\n",
    "        "
   ]
  }
 ],
 "metadata": {
  "kernelspec": {
   "display_name": "Python 3 (ipykernel)",
   "language": "python",
   "name": "python3"
  },
  "language_info": {
   "codemirror_mode": {
    "name": "ipython",
    "version": 3
   },
   "file_extension": ".py",
   "mimetype": "text/x-python",
   "name": "python",
   "nbconvert_exporter": "python",
   "pygments_lexer": "ipython3",
   "version": "3.8.9"
  }
 },
 "nbformat": 4,
 "nbformat_minor": 5
}
